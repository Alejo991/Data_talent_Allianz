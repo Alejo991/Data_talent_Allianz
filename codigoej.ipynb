{
 "cells": [
  {
   "cell_type": "code",
   "execution_count": null,
   "metadata": {},
   "outputs": [],
   "source": []
  },
  {
   "cell_type": "code",
   "execution_count": 1,
   "metadata": {},
   "outputs": [],
   "source": [
    "import pandas as pd\n",
    "import numpy as np\n",
    "from sklearn.metrics import roc_auc_score\n",
    "from sklearn.model_selection import train_test_split\n",
    "from sklearn import linear_model\n",
    "\n",
    "from sklearn.datasets import make_classification\n",
    "from sklearn.linear_model import LogisticRegression\n",
    "from sklearn.model_selection import train_test_split\n",
    "from sklearn.pipeline import make_pipeline\n",
    "from sklearn.preprocessing import StandardScaler\n",
    "import missingno as msno\n",
    "\n",
    "from sklearn.metrics import f1_score\n",
    "\n",
    "from scipy import stats\n",
    "\n",
    "import matplotlib.pyplot as plt\n",
    "import seaborn as sns\n",
    "\n",
    "\n",
    "from sklearn.model_selection import train_test_split, cross_val_score\n",
    "from sklearn.metrics import accuracy_score, classification_report, precision_score, recall_score \n",
    "from sklearn.metrics import confusion_matrix, precision_recall_curve, roc_curve, auc, log_loss\n",
    "\n",
    "from sklearn.preprocessing import StandardScaler # Análisis de PCA\n",
    "from sklearn.decomposition import PCA\n",
    "\n",
    "from sklearn.metrics import accuracy_score, confusion_matrix, classification_report, plot_roc_curve\n",
    "from sklearn.model_selection import KFold\n",
    "from sklearn.ensemble import RandomForestClassifier # Generación de modelo de random forest\n",
    "from sklearn.ensemble import BaggingClassifier # Generación de modelos de bagging\n",
    "from sklearn.neighbors import KNeighborsClassifier\n",
    "from sklearn.naive_bayes import GaussianNB\n",
    "from sklearn.naive_bayes import ComplementNB\n",
    "from pandas_profiling import ProfileReport"
   ]
  },
  {
   "cell_type": "code",
   "execution_count": null,
   "metadata": {},
   "outputs": [],
   "source": [
    "df = pd.read_csv(r'C:\\Users\\nelna\\OneDrive\\Alejandro Cookbook\\Analisis de datos\\Allianz\\Datathon_Allianz-main\\Datathon\\SemiFinal.csv', delimiter = ',')\n",
    "df"
   ]
  },
  {
   "cell_type": "code",
   "execution_count": null,
   "metadata": {},
   "outputs": [],
   "source": [
    "# Se analiza columna a columna el número de valores únicos que tiene cada celda\n",
    "\n",
    "for col in df:\n",
    "    print(col)\n",
    "    print('\\n')\n",
    "\n",
    "    # if df[col].dtype != object: \n",
    "    # # print(column)\n",
    "    #     plt.figure()\n",
    "    #     plt.title(col)\n",
    "    #     plt.hist(df[col])\n",
    "\n",
    "    # else:\n",
    "    \n",
    "    #     df[col].value_counts().plot(kind='barh')\n",
    "\n",
    "    print(\"Unique values  {}\".format(df[col].nunique(dropna=False)))\n",
    "\n",
    "    if df[col].nunique() > 20:\n",
    "        print('The column has more than 20 values')\n",
    "    else:\n",
    "        plt.suptitle(col)\n",
    "        print(\"Values counts:\\n{}\".format(df[col].value_counts(dropna=False)))\n",
    "\n",
    "    print('\\n\\n')\n",
    "    \n",
    "    print(df[col].describe())\n",
    "    \n",
    "    print('\\n')\n",
    "\n",
    "    # df[col].plot(kind='hist')\n",
    "\n",
    "    \n",
    "\n",
    "    print('\\n')\n",
    "\n",
    "    print('------------------------------------------------------')"
   ]
  }
 ],
 "metadata": {
  "kernelspec": {
   "display_name": "base",
   "language": "python",
   "name": "python3"
  },
  "language_info": {
   "codemirror_mode": {
    "name": "ipython",
    "version": 3
   },
   "file_extension": ".py",
   "mimetype": "text/x-python",
   "name": "python",
   "nbconvert_exporter": "python",
   "pygments_lexer": "ipython3",
   "version": "3.9.7"
  },
  "orig_nbformat": 4,
  "vscode": {
   "interpreter": {
    "hash": "360a076551e6485e4c5b53d8e9f1d5ce02b783e2de58c12ed7d3869eabf347d9"
   }
  }
 },
 "nbformat": 4,
 "nbformat_minor": 2
}
